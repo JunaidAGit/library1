{
 "cells": [
  {
   "cell_type": "code",
   "execution_count": 5,
   "metadata": {},
   "outputs": [],
   "source": [
    "import numpy as np\n",
    "from scipy.stats import norm"
   ]
  },
  {
   "cell_type": "code",
   "execution_count": 27,
   "metadata": {},
   "outputs": [],
   "source": [
    "class OptionsPricingCS:#Options pricing close solution\n",
    "    \n",
    "    def __init__(self, call_put, excercise_type, strike, time_to_maturity, spot, rf, rd, volatility):\n",
    "        self.call_put = call_put #String call or put\n",
    "        self.excercise_type = excercise_type #String American or European\n",
    "        self.strike = strike #Double strike price\n",
    "        self.time_to_maturity = time_to_maturity #Double years to maturity\n",
    "        self.spot = spot #Double spot price\n",
    "        self.rf = rf #Double foreign interest rate or dividend rate\n",
    "        self.rd = rd #Double risk free rate or domestic rate\n",
    "        self.volatility = volatility #Volatility\n",
    "        self.Nd1 = 0\n",
    "        self.Nd2 = 0\n",
    "        \n",
    "    def european_call_BS(self): #Black-Scholes-Merton Formula for Vanilla European Call\n",
    "        self.d1 = (np.log(self.spot/ self.strike) + \n",
    "                   (self.rd - self.rf + 0.5 * self.volatility**2)*self.time_to_maturity) / (self.volatility*np.sqrt(self.time_to_maturity))\n",
    "        self.d2 = self.d1 - self.volatility*np.sqrt(self.time_to_maturity)\n",
    "        self.N_d1 = norm.cdf(self.d1)\n",
    "        self.N_d2 = norm.cdf(self.d2)\n",
    "        self.call_pv = self.spot*np.exp(-self.rf*self.time_to_maturity)*self.N_d1 - self.strike*np.exp(-self.rd*self.time_to_maturity)*self.N_d2\n",
    "        return self.call_pv                     \n",
    "        \n",
    "    def european_put_BS(self): #Black-Scholes-Merton Formula for Vanilla European Call\n",
    "        self.d1 = (np.log(self.spot/ self.strike) + \n",
    "                   (self.rd - self.rf + 0.5 * self.volatility**2)*self.time_to_maturity) / (self.volatility*np.sqrt(self.time_to_maturity))\n",
    "        self.d2 = self.d1 - self.volatility*np.sqrt(self.time_to_maturity)\n",
    "        self.N_d1 = norm.cdf(-self.d1)\n",
    "        self.N_d2 = norm.cdf(-self.d2)\n",
    "        self.put_pv = - self.spot*np.exp(-self.rf*self.time_to_maturity)*self.N_d1 + self.strike*np.exp(-self.rd*self.time_to_maturity)*self.N_d2\n",
    "        return self.put_pv\n",
    "    \n",
    "    def european_put_call_parity(self):\n",
    "        return self.european_call_BS() - self.european_put_BS()\n",
    "    "
   ]
  },
  {
   "cell_type": "code",
   "execution_count": 28,
   "metadata": {},
   "outputs": [],
   "source": [
    "my_option = OptionsPricingCS(\"call\",\"European\",100,1,100,0.00,0.02,0.2)"
   ]
  },
  {
   "cell_type": "code",
   "execution_count": 29,
   "metadata": {},
   "outputs": [
    {
     "data": {
      "text/plain": [
       "8.916037278572539"
      ]
     },
     "execution_count": 29,
     "metadata": {},
     "output_type": "execute_result"
    }
   ],
   "source": [
    "my_option.european_call_BS()"
   ]
  },
  {
   "cell_type": "code",
   "execution_count": 30,
   "metadata": {},
   "outputs": [
    {
     "data": {
      "text/plain": [
       "6.93590460924807"
      ]
     },
     "execution_count": 30,
     "metadata": {},
     "output_type": "execute_result"
    }
   ],
   "source": [
    "my_option.european_put_BS()"
   ]
  },
  {
   "cell_type": "code",
   "execution_count": 31,
   "metadata": {},
   "outputs": [
    {
     "data": {
      "text/plain": [
       "1.980132669324469"
      ]
     },
     "execution_count": 31,
     "metadata": {},
     "output_type": "execute_result"
    }
   ],
   "source": [
    "my_option.european_put_call_parity()"
   ]
  },
  {
   "cell_type": "code",
   "execution_count": null,
   "metadata": {},
   "outputs": [],
   "source": []
  }
 ],
 "metadata": {
  "kernelspec": {
   "display_name": "Python 3",
   "language": "python",
   "name": "python3"
  },
  "language_info": {
   "codemirror_mode": {
    "name": "ipython",
    "version": 3
   },
   "file_extension": ".py",
   "mimetype": "text/x-python",
   "name": "python",
   "nbconvert_exporter": "python",
   "pygments_lexer": "ipython3",
   "version": "3.6.10"
  }
 },
 "nbformat": 4,
 "nbformat_minor": 4
}
