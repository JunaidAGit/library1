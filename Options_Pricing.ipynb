{
 "cells": [
  {
   "cell_type": "code",
   "execution_count": 294,
   "metadata": {},
   "outputs": [],
   "source": [
    "# Copyright 2020 by Emilio Cabrera\n",
    "# All rights reserved.\n"
   ]
  },
  {
   "cell_type": "markdown",
   "metadata": {},
   "source": [
    "The MIT License (MIT)\n",
    "\n",
    "Copyright (c) 2020 Emilio Cabrera\n",
    "\n",
    "Permission is hereby granted, free of charge, to any person obtaining a copy\n",
    "of this software and associated documentation files (the \"Software\"), to deal\n",
    "in the Software without restriction, including without limitation the rights\n",
    "to use, copy, modify, merge, publish, distribute, sublicense, and/or sell\n",
    "copies of the Software, and to permit persons to whom the Software is\n",
    "furnished to do so, subject to the following conditions:\n",
    "\n",
    "The above copyright notice and this permission notice shall be included in all\n",
    "copies or substantial portions of the Software.\n",
    "\n",
    "THE SOFTWARE IS PROVIDED \"AS IS\", WITHOUT WARRANTY OF ANY KIND, EXPRESS OR\n",
    "IMPLIED, INCLUDING BUT NOT LIMITED TO THE WARRANTIES OF MERCHANTABILITY,\n",
    "FITNESS FOR A PARTICULAR PURPOSE AND NONINFRINGEMENT. IN NO EVENT SHALL THE\n",
    "AUTHORS OR COPYRIGHT HOLDERS BE LIABLE FOR ANY CLAIM, DAMAGES OR OTHER\n",
    "LIABILITY, WHETHER IN AN ACTION OF CONTRACT, TORT OR OTHERWISE, ARISING FROM,\n",
    "OUT OF OR IN CONNECTION WITH THE SOFTWARE OR THE USE OR OTHER DEALINGS IN THE\n",
    "SOFTWARE."
   ]
  },
  {
   "cell_type": "code",
   "execution_count": 277,
   "metadata": {},
   "outputs": [],
   "source": [
    "import numpy as np\n",
    "from scipy.stats import norm\n",
    "from timeit import default_timer as timer\n",
    "#from numba import jit #Numba doesn't seem to work in the presence if inherit classes\n",
    "#http://numba.pydata.org/numba-doc/0.6/doc/extension_types.html"
   ]
  },
  {
   "cell_type": "code",
   "execution_count": 254,
   "metadata": {},
   "outputs": [],
   "source": [
    "#I am creating a separate class for the binomial tree. The reasons are two:\n",
    "#1. Some greeks will require pricing twice the derivative (vega, rho, theta)\n",
    "#2. Thinking forward in terms of portfolio, one binomial tree per underlying asset should suffice\n",
    "class BinTree:\n",
    "    \n",
    "    def __init__(self, time_to_maturity, spot, rf, rd, volatility, steps):\n",
    "        \n",
    "        \n",
    "        self.time_to_maturity0 = time_to_maturity #Double years to maturity\n",
    "        self.spot0 = spot #Double spot price\n",
    "        self.rf0 = rf #Double foreign interest rate or dividend rate\n",
    "        self.rd0 = rd #Double risk free rate or domestic rate\n",
    "        self.volatility0 = volatility #Volatility\n",
    "        self.steps0 = steps\n",
    "        self.up_factor0 = np.exp(volatility * np.sqrt(self.time_to_maturity0/self.steps0))\n",
    "        self.down_factor0 = 1/self.up_factor0\n",
    "        self.tree_matrix0 = np.matrix(np.zeros(shape = (self.steps0, self.steps0)))\n",
    "        self.tree_matrix0[0,0] = self.spot0\n",
    "        \n",
    "        \n",
    "    #@jit(nopython=True) #Make it faster\n",
    "    def binomial_tree(self):#Binomial tree to be used for pricing\n",
    "        #self.N = steps\n",
    "        for i in range(self.steps0):\n",
    "            for j in range(self.steps0):\n",
    "                if j > 0 and i == j:\n",
    "                    self.tree_matrix0[i,j] = self.tree_matrix0[i-1,j-1]*self.down_factor0\n",
    "                if j > i:\n",
    "                    self.tree_matrix0[i,j] = self.tree_matrix0[i,j-1]*self.up_factor0\n",
    "        return self.tree_matrix0\n",
    "    "
   ]
  },
  {
   "cell_type": "code",
   "execution_count": 266,
   "metadata": {},
   "outputs": [],
   "source": [
    "class OptionsPricingCS(BinTree):#Options pricing close solution and simulations\n",
    "    \n",
    "    def __init__(self, call_put, excercise_type, strike, time_to_maturity, spot, rf, rd, volatility):\n",
    "        self.call_put = call_put #String call or put\n",
    "        self.excercise_type = excercise_type #String American or European\n",
    "        self.strike = strike #Double strike price\n",
    "        self.time_to_maturity = time_to_maturity #Double years to maturity\n",
    "        self.spot = spot #Double spot price\n",
    "        self.rf = rf #Double foreign interest rate or dividend rate\n",
    "        self.rd = rd #Double risk free rate or domestic rate\n",
    "        self.volatility = volatility #Volatility\n",
    "        self.Nd1 = 0\n",
    "        self.Nd2 = 0\n",
    "        self.steps = 100\n",
    "        BinTree.__init__(self,time_to_maturity = self.time_to_maturity,\n",
    "                         spot = self.spot, rf = self.rf, rd = self.rd,\n",
    "                         volatility = self.volatility,steps=self.steps )\n",
    "        \n",
    "    def european_call_BS(self): #Black-Scholes-Merton Formula for Vanilla European Call\n",
    "        self.d1 = (np.log(self.spot/ self.strike) + \n",
    "                   (self.rd - self.rf + 0.5 * self.volatility**2)*self.time_to_maturity) / (self.volatility*np.sqrt(self.time_to_maturity))\n",
    "        self.d2 = self.d1 - self.volatility*np.sqrt(self.time_to_maturity)\n",
    "        self.N_d1 = norm.cdf(self.d1)\n",
    "        self.N_d2 = norm.cdf(self.d2)\n",
    "        self.call_pv = self.spot*np.exp(-self.rf*self.time_to_maturity)*self.N_d1 - self.strike*np.exp(-self.rd*self.time_to_maturity)*self.N_d2\n",
    "        self.delta = np.exp(-self.rf*self.time_to_maturity)*self.N_d1\n",
    "        self.gamma = norm.pdf(self.d1)/(self.spot*self.volatility*np.sqrt(self.time_to_maturity))\n",
    "        self.vega = norm.pdf(self.d1)*(self.spot*np.sqrt(self.time_to_maturity))\n",
    "        return self.call_pv, self.delta, self.gamma, self.vega                     \n",
    "        \n",
    "    def european_put_BS(self): #Black-Scholes-Merton Formula for Vanilla European Call\n",
    "        self.d1 = (np.log(self.spot/ self.strike) + \n",
    "                   (self.rd - self.rf + 0.5 * self.volatility**2)*self.time_to_maturity) / (self.volatility*np.sqrt(self.time_to_maturity))\n",
    "        self.d2 = self.d1 - self.volatility*np.sqrt(self.time_to_maturity)\n",
    "        self.N_d1 = norm.cdf(-self.d1)\n",
    "        self.N_d2 = norm.cdf(-self.d2)\n",
    "        self.put_pv = - self.spot*np.exp(-self.rf*self.time_to_maturity)*self.N_d1 + self.strike*np.exp(-self.rd*self.time_to_maturity)*self.N_d2\n",
    "        self.delta = - np.exp(-self.rf*self.time_to_maturity)*self.N_d1\n",
    "        self.gamma = norm.pdf(self.d1)/(self.spot*self.volatility*np.sqrt(self.time_to_maturity))\n",
    "        self.vega = norm.pdf(self.d1)*(self.spot*np.sqrt(self.time_to_maturity))\n",
    "        return self.put_pv, self.delta, self.gamma, self.vega\n",
    "    \n",
    "    def european_put_call_parity(self):\n",
    "        return self.european_call_BS()[0] - self.european_put_BS()[0]\n",
    "    \n",
    "    \n",
    "      \n",
    "        \n",
    "    #Note on Numba: the first invocation of the function will actually make it slower\n",
    "    #subsequent invocations will be faster\n",
    "    #@jit(nopython=True) #Make it faster\n",
    "    def european_call_binomial(self, tree):#European call with binomial tree\n",
    "        self.tree = tree #self.binomial_tree(steps = N)\n",
    "        #self.steps = N\n",
    "        self.up_factor = np.exp(self.volatility * np.sqrt(self.time_to_maturity/self.steps))\n",
    "        self.down_factor = 1/self.up_factor\n",
    "        self.pu = (np.exp((self.rd - self.rf)/self.steps) - self.down_factor)/(self.up_factor - self.down_factor)\n",
    "        self.pd = 1 - self.pu\n",
    "        self.df = np.exp(-self.rd/self.steps)\n",
    "        self.tree_matrix = np.matrix(np.zeros(shape = (self.steps, self.steps)))\n",
    "        self.tree_matrix[:,self.steps - 1] = np.maximum(self.tree[:,self.steps - 1] - self.strike,0)\n",
    "        \n",
    "        for j in range(self.steps - 2, -1, -1):\n",
    "            for i in range(self.steps -  1):\n",
    "                self.tree_matrix[i,j] = (self.pu*self.tree_matrix[i,j+1] + self.pd*self.tree_matrix[i+1,j+1])*self.df\n",
    "        \n",
    "        self.delta = (self.tree_matrix[0,1] - self.tree_matrix[1,1])/(self.tree[0,1] - self.tree[1,1])\n",
    "        return self.tree_matrix[0,0], self.delta\n",
    "    \n",
    "    #@jit(nopython=True) #Make it faster\n",
    "    def european_put_binomial(self,tree):#European put with binomial tree\n",
    "        self.tree = tree #self.binomial_tree(steps = N)\n",
    "        #self.steps = N\n",
    "        self.up_factor = np.exp(self.volatility * np.sqrt(self.time_to_maturity/self.steps))\n",
    "        self.down_factor = 1/self.up_factor\n",
    "        self.pu = (np.exp((self.rd - self.rf)/self.steps) - self.down_factor)/(self.up_factor - self.down_factor)\n",
    "        self.pd = 1 - self.pu\n",
    "        self.df = np.exp(-self.rd/self.steps)\n",
    "        self.tree_matrix = np.matrix(np.zeros(shape = (self.steps, self.steps)))\n",
    "        self.tree_matrix[:,self.steps - 1] = np.maximum(- self.tree[:,self.steps - 1] + self.strike,0)\n",
    "        \n",
    "        for j in range(self.steps - 2, -1, -1):\n",
    "            for i in range(self.steps -  1):\n",
    "                self.tree_matrix[i,j] = (self.pu*self.tree_matrix[i,j+1] + self.pd*self.tree_matrix[i+1,j+1])*self.df\n",
    "        \n",
    "        self.delta = (self.tree_matrix[0,1] - self.tree_matrix[1,1])/(self.tree[0,1] - self.tree[1,1])       \n",
    "        return self.tree_matrix[0,0], self.delta\n",
    "    \n",
    "    #@jit(nopython=True) #Make it faster\n",
    "    def european_put_call_parity_bin(self):\n",
    "        tree = self.binomial_tree()\n",
    "        return self.european_call_binomial(tree)[0] - self.european_put_binomial( tree)[0]\n",
    "    \n",
    "    def compare_times(self, N=100): #Under development 28 apr 2020\n",
    "        \"\"\"\n",
    "        print(\"Black and Scholes call time in seconds: \")\n",
    "        %time _ = self.european_call_BS()\n",
    "        print(\"Black and Scholes put time in seconds: \")\n",
    "        %time _ = self.european_put_BS()\n",
    "        print(\"Black and Scholes call time in seconds: \")\n",
    "        %time _ = self.european_call_binomial(N)\n",
    "        print(\"Black and Scholes put time in seconds: \")\n",
    "        %time _ = self.european_put_binomial(N)\n",
    "        \"\"\"\n",
    "        %%time \n",
    "        print(\"Black and Scholes call time in seconds: \")\n",
    "        self.european_call_BS()\n",
    "        "
   ]
  },
  {
   "cell_type": "markdown",
   "metadata": {},
   "source": [
    "#Declare an OptionPricingCS object call my_option"
   ]
  },
  {
   "cell_type": "code",
   "execution_count": 267,
   "metadata": {},
   "outputs": [],
   "source": [
    "my_option = OptionsPricingCS(\"call\",\"European\",100,1,100,0.00,0.02,0.2)"
   ]
  },
  {
   "cell_type": "markdown",
   "metadata": {},
   "source": [
    "Price my_option as an European Call with Black and Scholes and Delta"
   ]
  },
  {
   "cell_type": "code",
   "execution_count": 268,
   "metadata": {},
   "outputs": [
    {
     "data": {
      "text/plain": [
       "(8.916037278572539,\n",
       " 0.579259709439103,\n",
       " 0.019552134698772795,\n",
       " 39.104269397545586)"
      ]
     },
     "execution_count": 268,
     "metadata": {},
     "output_type": "execute_result"
    }
   ],
   "source": [
    "my_option.european_call_BS()"
   ]
  },
  {
   "cell_type": "markdown",
   "metadata": {},
   "source": [
    "Price my_option as an European Put with Black and Scholes and Delta"
   ]
  },
  {
   "cell_type": "code",
   "execution_count": 269,
   "metadata": {},
   "outputs": [
    {
     "data": {
      "text/plain": [
       "(6.93590460924807,\n",
       " -0.42074029056089696,\n",
       " 0.019552134698772795,\n",
       " 39.104269397545586)"
      ]
     },
     "execution_count": 269,
     "metadata": {},
     "output_type": "execute_result"
    }
   ],
   "source": [
    "my_option.european_put_BS()\n"
   ]
  },
  {
   "cell_type": "markdown",
   "metadata": {},
   "source": [
    "Compute my_option Put-Call parity with Black and Scholes\n"
   ]
  },
  {
   "cell_type": "code",
   "execution_count": 270,
   "metadata": {},
   "outputs": [
    {
     "data": {
      "text/plain": [
       "1.980132669324469"
      ]
     },
     "execution_count": 270,
     "metadata": {},
     "output_type": "execute_result"
    }
   ],
   "source": [
    "my_option.european_put_call_parity()"
   ]
  },
  {
   "cell_type": "markdown",
   "metadata": {},
   "source": [
    "\n",
    "Print the Binomial Tree"
   ]
  },
  {
   "cell_type": "code",
   "execution_count": 276,
   "metadata": {},
   "outputs": [
    {
     "data": {
      "text/plain": [
       "matrix([[100.        , 102.020134  , 104.08107742, ..., 695.87509706,\n",
       "         709.93270652, 724.27429852],\n",
       "        [  0.        ,  98.01986733, 100.        , ..., 668.58944423,\n",
       "         682.09584693, 695.87509706],\n",
       "        [  0.        ,   0.        ,  96.07894392, ..., 642.37367714,\n",
       "         655.35048622, 668.58944423],\n",
       "        ...,\n",
       "        [  0.        ,   0.        ,   0.        , ...,  14.37039498,\n",
       "          14.66069621,  14.95686192],\n",
       "        [  0.        ,   0.        ,   0.        , ...,   0.        ,\n",
       "          14.08584209,  14.37039498],\n",
       "        [  0.        ,   0.        ,   0.        , ...,   0.        ,\n",
       "           0.        ,  13.80692373]])"
      ]
     },
     "execution_count": 276,
     "metadata": {},
     "output_type": "execute_result"
    }
   ],
   "source": [
    "my_option.binomial_tree()\n"
   ]
  },
  {
   "cell_type": "code",
   "execution_count": 272,
   "metadata": {},
   "outputs": [
    {
     "data": {
      "text/plain": [
       "100"
      ]
     },
     "execution_count": 272,
     "metadata": {},
     "output_type": "execute_result"
    }
   ],
   "source": [
    "my_option.steps0\n"
   ]
  },
  {
   "cell_type": "markdown",
   "metadata": {},
   "source": [
    "Fair value of the call with the binomial model and delta"
   ]
  },
  {
   "cell_type": "code",
   "execution_count": 273,
   "metadata": {},
   "outputs": [
    {
     "data": {
      "text/plain": [
       "(8.886446501926175, 0.5786703340393738)"
      ]
     },
     "execution_count": 273,
     "metadata": {},
     "output_type": "execute_result"
    }
   ],
   "source": [
    "my_option.european_call_binomial(my_option.binomial_tree())\n"
   ]
  },
  {
   "cell_type": "markdown",
   "metadata": {},
   "source": [
    "Fair value of the put with binomial model and delta"
   ]
  },
  {
   "cell_type": "code",
   "execution_count": 274,
   "metadata": {},
   "outputs": [
    {
     "data": {
      "text/plain": [
       "(6.925919766595378, -0.4213296659606335)"
      ]
     },
     "execution_count": 274,
     "metadata": {},
     "output_type": "execute_result"
    }
   ],
   "source": [
    "my_option.european_put_binomial(my_option.binomial_tree())"
   ]
  },
  {
   "cell_type": "markdown",
   "metadata": {},
   "source": [
    "Fair value of the put-call parity with the binomial tree"
   ]
  },
  {
   "cell_type": "code",
   "execution_count": 275,
   "metadata": {},
   "outputs": [
    {
     "data": {
      "text/plain": [
       "1.960526735330797"
      ]
     },
     "execution_count": 275,
     "metadata": {},
     "output_type": "execute_result"
    }
   ],
   "source": [
    "my_option.european_put_call_parity_bin()"
   ]
  },
  {
   "cell_type": "code",
   "execution_count": null,
   "metadata": {},
   "outputs": [],
   "source": [
    "\n"
   ]
  },
  {
   "cell_type": "code",
   "execution_count": 291,
   "metadata": {},
   "outputs": [
    {
     "name": "stdout",
     "output_type": "stream",
     "text": [
      "Black and Scholes call time in seconds: \n",
      "0.0003921000006812392\n",
      "Black and Scholes put time in seconds: \n",
      "0.0005604999996648985\n"
     ]
    }
   ],
   "source": [
    "my_option.compare_times()"
   ]
  },
  {
   "cell_type": "code",
   "execution_count": null,
   "metadata": {},
   "outputs": [],
   "source": []
  },
  {
   "cell_type": "code",
   "execution_count": null,
   "metadata": {},
   "outputs": [],
   "source": []
  },
  {
   "cell_type": "code",
   "execution_count": null,
   "metadata": {},
   "outputs": [],
   "source": []
  }
 ],
 "metadata": {
  "kernelspec": {
   "display_name": "Python 3",
   "language": "python",
   "name": "python3"
  },
  "language_info": {
   "codemirror_mode": {
    "name": "ipython",
    "version": 3
   },
   "file_extension": ".py",
   "mimetype": "text/x-python",
   "name": "python",
   "nbconvert_exporter": "python",
   "pygments_lexer": "ipython3",
   "version": "3.6.10"
  }
 },
 "nbformat": 4,
 "nbformat_minor": 4
}
