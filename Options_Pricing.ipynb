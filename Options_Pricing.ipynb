{
 "cells": [
  {
   "cell_type": "code",
   "execution_count": 184,
   "metadata": {},
   "outputs": [],
   "source": [
    "import numpy as np\n",
    "from scipy.stats import norm\n",
    "from timeit import default_timer as timer"
   ]
  },
  {
   "cell_type": "code",
   "execution_count": 257,
   "metadata": {},
   "outputs": [],
   "source": [
    "class OptionsPricingCS:#Options pricing close solution and simulations\n",
    "    \n",
    "    def __init__(self, call_put, excercise_type, strike, time_to_maturity, spot, rf, rd, volatility):\n",
    "        self.call_put = call_put #String call or put\n",
    "        self.excercise_type = excercise_type #String American or European\n",
    "        self.strike = strike #Double strike price\n",
    "        self.time_to_maturity = time_to_maturity #Double years to maturity\n",
    "        self.spot = spot #Double spot price\n",
    "        self.rf = rf #Double foreign interest rate or dividend rate\n",
    "        self.rd = rd #Double risk free rate or domestic rate\n",
    "        self.volatility = volatility #Volatility\n",
    "        self.Nd1 = 0\n",
    "        self.Nd2 = 0\n",
    "        \n",
    "    def european_call_BS(self): #Black-Scholes-Merton Formula for Vanilla European Call\n",
    "        self.d1 = (np.log(self.spot/ self.strike) + \n",
    "                   (self.rd - self.rf + 0.5 * self.volatility**2)*self.time_to_maturity) / (self.volatility*np.sqrt(self.time_to_maturity))\n",
    "        self.d2 = self.d1 - self.volatility*np.sqrt(self.time_to_maturity)\n",
    "        self.N_d1 = norm.cdf(self.d1)\n",
    "        self.N_d2 = norm.cdf(self.d2)\n",
    "        self.call_pv = self.spot*np.exp(-self.rf*self.time_to_maturity)*self.N_d1 - self.strike*np.exp(-self.rd*self.time_to_maturity)*self.N_d2\n",
    "        self.delta = np.exp(-self.rf*self.time_to_maturity)*self.N_d1\n",
    "        return self.call_pv, self.delta                     \n",
    "        \n",
    "    def european_put_BS(self): #Black-Scholes-Merton Formula for Vanilla European Call\n",
    "        self.d1 = (np.log(self.spot/ self.strike) + \n",
    "                   (self.rd - self.rf + 0.5 * self.volatility**2)*self.time_to_maturity) / (self.volatility*np.sqrt(self.time_to_maturity))\n",
    "        self.d2 = self.d1 - self.volatility*np.sqrt(self.time_to_maturity)\n",
    "        self.N_d1 = norm.cdf(-self.d1)\n",
    "        self.N_d2 = norm.cdf(-self.d2)\n",
    "        self.put_pv = - self.spot*np.exp(-self.rf*self.time_to_maturity)*self.N_d1 + self.strike*np.exp(-self.rd*self.time_to_maturity)*self.N_d2\n",
    "        self.delta = - np.exp(-self.rf*self.time_to_maturity)*self.N_d1\n",
    "        return self.put_pv, self.delta\n",
    "    \n",
    "    def european_put_call_parity(self):\n",
    "        return self.european_call_BS()[0] - self.european_put_BS()[0]\n",
    "    \n",
    "    def binomial_tree(self, steps = 100):\n",
    "        self.N = steps\n",
    "        self.up_factor = np.exp(self.volatility * np.sqrt(self.time_to_maturity/self.N))\n",
    "        self.down_factor = 1/self.up_factor\n",
    "        self.tree_matrix = np.matrix(np.zeros(shape = (self.N, self.N)))\n",
    "        self.tree_matrix[0,0] = self.spot\n",
    "        for i in range(self.N):\n",
    "            for j in range(self.N):\n",
    "                if j > 0 and i == j:\n",
    "                    self.tree_matrix[i,j] = self.tree_matrix[i-1,j-1]*self.down_factor\n",
    "                if j > i:\n",
    "                    self.tree_matrix[i,j] = self.tree_matrix[i,j-1]*self.up_factor\n",
    "        return self.tree_matrix\n",
    "    \n",
    "    def european_call_binomial(self, tree ,N = 100 ):\n",
    "        self.tree = tree #self.binomial_tree(steps = N)\n",
    "        self.steps = self.tree.shape[1]\n",
    "        self.up_factor = np.exp(self.volatility * np.sqrt(self.time_to_maturity/self.steps))\n",
    "        self.down_factor = 1/self.up_factor\n",
    "        self.pu = (np.exp((self.rd - self.rf)/self.steps) - self.down_factor)/(self.up_factor - self.down_factor)\n",
    "        self.pd = 1 - self.pu\n",
    "        self.df = np.exp(-self.rd/self.steps)\n",
    "        self.tree_matrix = np.matrix(np.zeros(shape = (self.steps, self.steps)))\n",
    "        self.tree_matrix[:,self.steps - 1] = np.maximum(self.tree[:,self.steps - 1] - self.strike,0)\n",
    "        \n",
    "        for j in range(self.steps - 2, -1, -1):\n",
    "            for i in range(self.steps -  1):\n",
    "                self.tree_matrix[i,j] = (self.pu*self.tree_matrix[i,j+1] + self.pd*self.tree_matrix[i+1,j+1])*self.df\n",
    "        \n",
    "        self.delta = (self.tree_matrix[0,1] - self.tree_matrix[1,1])/(self.tree[0,1] - self.tree[1,1])\n",
    "        return self.tree_matrix[0,0], self.delta\n",
    "    \n",
    "    def european_put_binomial(self,tree, N = 100 ):\n",
    "        self.tree = tree #self.binomial_tree(steps = N)\n",
    "        self.steps = self.tree.shape[1]\n",
    "        self.up_factor = np.exp(self.volatility * np.sqrt(self.time_to_maturity/self.steps))\n",
    "        self.down_factor = 1/self.up_factor\n",
    "        self.pu = (np.exp((self.rd - self.rf)/self.steps) - self.down_factor)/(self.up_factor - self.down_factor)\n",
    "        self.pd = 1 - self.pu\n",
    "        self.df = np.exp(-self.rd/self.steps)\n",
    "        self.tree_matrix = np.matrix(np.zeros(shape = (self.steps, self.steps)))\n",
    "        self.tree_matrix[:,self.steps - 1] = np.maximum(- self.tree[:,self.steps - 1] + self.strike,0)\n",
    "        \n",
    "        for j in range(self.steps - 2, -1, -1):\n",
    "            for i in range(self.steps -  1):\n",
    "                self.tree_matrix[i,j] = (self.pu*self.tree_matrix[i,j+1] + self.pd*self.tree_matrix[i+1,j+1])*self.df\n",
    "        \n",
    "        self.delta = (self.tree_matrix[0,1] - self.tree_matrix[1,1])/(self.tree[0,1] - self.tree[1,1])       \n",
    "        return self.tree_matrix[0,0], self.delta\n",
    "    \n",
    "    def european_put_call_parity_bin(self,N = 100):\n",
    "        tree = self.binomial_tree(steps = N)\n",
    "        return self.european_call_binomial(tree, N=N )[0] - self.european_put_binomial( tree, N=N)[0]\n",
    "    \n",
    "    def compare_times(self): #Under development 28 apr 2020\n",
    "        start1 = timer()\n",
    "        self.european_call_BS()\n",
    "        end1 = timer()\n",
    "        print(\"Black and Scholes call time in seconds: \")\n",
    "        print(end1 - start1)\n",
    "        \n",
    "        start2 = timer()\n",
    "        self.european_put_BS()\n",
    "        end2 = timer()\n",
    "        print(\"Black and Scholes put time in seconds: \")\n",
    "        print(end2 - start2)\n",
    "        \n",
    "        "
   ]
  },
  {
   "cell_type": "markdown",
   "metadata": {},
   "source": [
    "#Declare an OptionPricingCS object call my_option"
   ]
  },
  {
   "cell_type": "code",
   "execution_count": 258,
   "metadata": {},
   "outputs": [],
   "source": [
    "my_option = OptionsPricingCS(\"call\",\"European\",100,1,100,0.00,0.02,0.2)"
   ]
  },
  {
   "cell_type": "markdown",
   "metadata": {},
   "source": [
    "Price my_option as an European Call with Black and Scholes and Delta"
   ]
  },
  {
   "cell_type": "code",
   "execution_count": 259,
   "metadata": {},
   "outputs": [
    {
     "data": {
      "text/plain": [
       "(8.916037278572539, 0.579259709439103)"
      ]
     },
     "execution_count": 259,
     "metadata": {},
     "output_type": "execute_result"
    }
   ],
   "source": [
    "my_option.european_call_BS()"
   ]
  },
  {
   "cell_type": "markdown",
   "metadata": {},
   "source": [
    "Price my_option as an European Put with Black and Scholes and Delta"
   ]
  },
  {
   "cell_type": "code",
   "execution_count": 260,
   "metadata": {},
   "outputs": [
    {
     "data": {
      "text/plain": [
       "(6.93590460924807, -0.42074029056089696)"
      ]
     },
     "execution_count": 260,
     "metadata": {},
     "output_type": "execute_result"
    }
   ],
   "source": [
    "my_option.european_put_BS()\n"
   ]
  },
  {
   "cell_type": "markdown",
   "metadata": {},
   "source": [
    "Compute my_option Put-Call parity with Black and Scholes\n"
   ]
  },
  {
   "cell_type": "code",
   "execution_count": 261,
   "metadata": {},
   "outputs": [
    {
     "data": {
      "text/plain": [
       "1.980132669324469"
      ]
     },
     "execution_count": 261,
     "metadata": {},
     "output_type": "execute_result"
    }
   ],
   "source": [
    "my_option.european_put_call_parity()"
   ]
  },
  {
   "cell_type": "markdown",
   "metadata": {},
   "source": [
    "Print the Binomial Tree"
   ]
  },
  {
   "cell_type": "code",
   "execution_count": 262,
   "metadata": {},
   "outputs": [
    {
     "data": {
      "text/plain": [
       "matrix([[100.        , 102.020134  , 104.08107742, ..., 695.87509706,\n",
       "         709.93270652, 724.27429852],\n",
       "        [  0.        ,  98.01986733, 100.        , ..., 668.58944423,\n",
       "         682.09584693, 695.87509706],\n",
       "        [  0.        ,   0.        ,  96.07894392, ..., 642.37367714,\n",
       "         655.35048622, 668.58944423],\n",
       "        ...,\n",
       "        [  0.        ,   0.        ,   0.        , ...,  14.37039498,\n",
       "          14.66069621,  14.95686192],\n",
       "        [  0.        ,   0.        ,   0.        , ...,   0.        ,\n",
       "          14.08584209,  14.37039498],\n",
       "        [  0.        ,   0.        ,   0.        , ...,   0.        ,\n",
       "           0.        ,  13.80692373]])"
      ]
     },
     "execution_count": 262,
     "metadata": {},
     "output_type": "execute_result"
    }
   ],
   "source": [
    "my_option.binomial_tree()"
   ]
  },
  {
   "cell_type": "markdown",
   "metadata": {},
   "source": [
    "Fair value of the call with the binomial model and delta"
   ]
  },
  {
   "cell_type": "code",
   "execution_count": 263,
   "metadata": {},
   "outputs": [
    {
     "data": {
      "text/plain": [
       "(8.886446501926175, 0.5786703340393738)"
      ]
     },
     "execution_count": 263,
     "metadata": {},
     "output_type": "execute_result"
    }
   ],
   "source": [
    "my_option.european_call_binomial(my_option.binomial_tree())"
   ]
  },
  {
   "cell_type": "markdown",
   "metadata": {},
   "source": [
    "Fair value of the put with binomial model and delta"
   ]
  },
  {
   "cell_type": "code",
   "execution_count": 264,
   "metadata": {},
   "outputs": [
    {
     "data": {
      "text/plain": [
       "(6.925919766595378, -0.4213296659606335)"
      ]
     },
     "execution_count": 264,
     "metadata": {},
     "output_type": "execute_result"
    }
   ],
   "source": [
    "my_option.european_put_binomial(my_option.binomial_tree())"
   ]
  },
  {
   "cell_type": "markdown",
   "metadata": {},
   "source": [
    "Fair value of the put-call parity with the binomial tree"
   ]
  },
  {
   "cell_type": "code",
   "execution_count": 265,
   "metadata": {},
   "outputs": [
    {
     "data": {
      "text/plain": [
       "1.9762117962190526"
      ]
     },
     "execution_count": 265,
     "metadata": {},
     "output_type": "execute_result"
    }
   ],
   "source": [
    "my_option.european_put_call_parity_bin(500)"
   ]
  },
  {
   "cell_type": "code",
   "execution_count": null,
   "metadata": {},
   "outputs": [],
   "source": [
    "\n"
   ]
  },
  {
   "cell_type": "code",
   "execution_count": 236,
   "metadata": {},
   "outputs": [
    {
     "name": "stdout",
     "output_type": "stream",
     "text": [
      "Black and Scholes call time in seconds: \n",
      "0.0003649000000223168\n"
     ]
    }
   ],
   "source": [
    "my_option.compare_times()"
   ]
  },
  {
   "cell_type": "code",
   "execution_count": null,
   "metadata": {},
   "outputs": [],
   "source": []
  }
 ],
 "metadata": {
  "kernelspec": {
   "display_name": "Python 3",
   "language": "python",
   "name": "python3"
  },
  "language_info": {
   "codemirror_mode": {
    "name": "ipython",
    "version": 3
   },
   "file_extension": ".py",
   "mimetype": "text/x-python",
   "name": "python",
   "nbconvert_exporter": "python",
   "pygments_lexer": "ipython3",
   "version": "3.6.10"
  }
 },
 "nbformat": 4,
 "nbformat_minor": 4
}
